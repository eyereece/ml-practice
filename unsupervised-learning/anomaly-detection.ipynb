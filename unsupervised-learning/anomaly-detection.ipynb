{
 "cells": [
  {
   "cell_type": "code",
   "execution_count": 1,
   "metadata": {},
   "outputs": [],
   "source": [
    "import numpy as np\n",
    "import matplotlib.pyplot as plt\n",
    "from utils import *\n",
    "\n",
    "%matplotlib inline"
   ]
  },
  {
   "attachments": {},
   "cell_type": "markdown",
   "metadata": {},
   "source": [
    "### Estimating parameters for a Gaussian distribution\n",
    "\n",
    "To complete the `estimate_gaussian` function calculate `mu` (mean for each feature in X) and `var` (variance for each feature in X)"
   ]
  },
  {
   "cell_type": "code",
   "execution_count": 3,
   "metadata": {},
   "outputs": [],
   "source": [
    "def estimate_gaussian(X):\n",
    "    m, n = X.shape\n",
    "\n",
    "    mu = 1/m*np.sum(X, axis=0)\n",
    "    var = 1/m*np.sum((X - mu) ** 2, axis=0)\n",
    "\n",
    "    return mu, var"
   ]
  },
  {
   "attachments": {},
   "cell_type": "markdown",
   "metadata": {},
   "source": [
    "### Selecting the threshold epsilon\n",
    "\n",
    "Now that you have estimated the Gaussian parameters, you can investigate which examples have a very high probability given this distribution and which examples have a very low probability\n",
    "* the low probability examples are more likely to be the anomalies in our dataset\n",
    "* one way to determine which examples are anomalies is to select a threshold based on a cross validation set\n",
    "\n",
    "`select_threshold` function is used to find the best threshold to use for selecting outliers based on the results from the validation set `(p_val)` and the ground `(y_val)`\n",
    "\n",
    "* if an example `x` has a low probability `p(x) < epsilon`, then it is classified as an anomaly\n",
    "* tp = number of true positives\n",
    "* fp = number of false positives\n",
    "* fn = number if false negatives"
   ]
  },
  {
   "cell_type": "code",
   "execution_count": 4,
   "metadata": {},
   "outputs": [],
   "source": [
    "def select_threshold(y_val, p_val):\n",
    "    best_epsilon = 0\n",
    "    best_F1 = 0\n",
    "    F1 = 0\n",
    "\n",
    "    step_size = (max(p_val) - min(p_val)) / 1000\n",
    "\n",
    "    for epsilon in np.arange(min(p_val), max(p_val), step_size):\n",
    "        predictions = (p_val < epsilon)\n",
    "\n",
    "        tp = sum((predictions == 1) & (y_val == 1))\n",
    "        fp = sum((predictions == 1) & (y_val == 0))\n",
    "        fn = sum((predictions == 0) & (y_val == 1))\n",
    "\n",
    "        prec = tp/(tp + fp)\n",
    "        rec = tp/(tp + fn)\n",
    "\n",
    "        F1 = (2*prec*rec) / (prec + rec)\n",
    "\n",
    "        if F1 > best_F1:\n",
    "            best_F1 = F1\n",
    "            best_epsilon = epsilon\n",
    "\n",
    "    return best_epsilon, best_F1"
   ]
  },
  {
   "cell_type": "code",
   "execution_count": null,
   "metadata": {},
   "outputs": [],
   "source": []
  }
 ],
 "metadata": {
  "kernelspec": {
   "display_name": "Python 3",
   "language": "python",
   "name": "python3"
  },
  "language_info": {
   "codemirror_mode": {
    "name": "ipython",
    "version": 3
   },
   "file_extension": ".py",
   "mimetype": "text/x-python",
   "name": "python",
   "nbconvert_exporter": "python",
   "pygments_lexer": "ipython3",
   "version": "3.10.4"
  },
  "orig_nbformat": 4
 },
 "nbformat": 4,
 "nbformat_minor": 2
}
