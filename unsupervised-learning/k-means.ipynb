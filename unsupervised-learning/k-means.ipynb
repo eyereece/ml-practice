{
 "cells": [
  {
   "attachments": {},
   "cell_type": "markdown",
   "metadata": {},
   "source": [
    "k-means algorithm is a method to automatically cluster data points together\n",
    "\n",
    "k-means is an interative procecure that:\n",
    "* starts by guessing the initial centroids, and then\n",
    "* refines this guess by:\n",
    "    * repeatedly assigning examples to their closest centroids, and then\n",
    "    * recomputing the centroid based on the assignments"
   ]
  },
  {
   "attachments": {},
   "cell_type": "markdown",
   "metadata": {},
   "source": [
    "In pseudocode,\n",
    "```python\n",
    "# initialize centroids\n",
    "    # k is the number of clusters\n",
    "\n",
    "centroids = kmeans_init_centroids(X, k)\n",
    "\n",
    "for iter in range(iterations):\n",
    "    # cluster assignment step:\n",
    "    # Assign each datapoint to the closest centroid\n",
    "    # idx[i] corresponds to the index of the centroid\n",
    "    # assigned to example i\n",
    "    idx = find_closest_centroids(X, centroids)\n",
    "\n",
    "    # move centroid step:\n",
    "    # compute means based on centroid assignments\n",
    "    centroids = compute_centroids(X, idx, k)\n",
    "```"
   ]
  },
  {
   "cell_type": "code",
   "execution_count": 1,
   "metadata": {},
   "outputs": [],
   "source": [
    "def find_closest_centroids(X, centroids):\n",
    "    # set k\n",
    "    K = centroids.shape[0]\n",
    "\n",
    "    idx = np.zeros(X.shape[0], dtype=int)\n",
    "\n",
    "    for i in range(X.shape[0]):\n",
    "        # array to hold distance between X[i] and each centroids[j]\n",
    "        distance = []\n",
    "\n",
    "        for j in range(centroids.shape[0]):\n",
    "            # calculate the norm between (X[i] - centroids[j])\n",
    "            norm_ij = np.linalg.norm(X[i] - centroids[j])\n",
    "            distance.append(norm_ij)\n",
    "\n",
    "        # calculate index of min value in distance\n",
    "        idx[i] = np.argmin(distance)\n",
    "\n",
    "    return idx"
   ]
  },
  {
   "cell_type": "code",
   "execution_count": 2,
   "metadata": {},
   "outputs": [],
   "source": [
    "def compute_centroids(X, idx, K):\n",
    "    m, n = X.shape\n",
    "    centroids = np.zeros((K, n))\n",
    "\n",
    "    for k in range(K):\n",
    "        # get a list of all data points in X assigned to centroid K\n",
    "        points = X[idx==k]\n",
    "        centroids[k] = np.mean(points, axis=0)\n",
    "\n",
    "    return centroids"
   ]
  },
  {
   "cell_type": "code",
   "execution_count": null,
   "metadata": {},
   "outputs": [],
   "source": []
  }
 ],
 "metadata": {
  "kernelspec": {
   "display_name": "Python 3",
   "language": "python",
   "name": "python3"
  },
  "language_info": {
   "codemirror_mode": {
    "name": "ipython",
    "version": 3
   },
   "file_extension": ".py",
   "mimetype": "text/x-python",
   "name": "python",
   "nbconvert_exporter": "python",
   "pygments_lexer": "ipython3",
   "version": "3.10.4"
  },
  "orig_nbformat": 4
 },
 "nbformat": 4,
 "nbformat_minor": 2
}
